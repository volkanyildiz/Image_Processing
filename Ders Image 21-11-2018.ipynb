{
 "cells": [
  {
   "cell_type": "code",
   "execution_count": 1,
   "metadata": {
    "collapsed": true
   },
   "outputs": [],
   "source": [
    "import matplotlib.pyplot as plt\n",
    "import matplotlib.image as mpimg\n",
    "import numpy as np"
   ]
  },
  {
   "cell_type": "code",
   "execution_count": 25,
   "metadata": {
    "collapsed": true
   },
   "outputs": [],
   "source": [
    "def my_product_two_dim_with_treshold(a,b):\n",
    "    return a[0]*b[0]+a[1]*b[1]+a[2]*b[2]"
   ]
  },
  {
   "cell_type": "code",
   "execution_count": 19,
   "metadata": {},
   "outputs": [],
   "source": [
    "def get_my_data():\n",
    "    my_data_x=[]\n",
    "    my_data_x.append([1,0,0])\n",
    "    my_data_x.append([1,0,1])\n",
    "    my_data_x.append([1,1,0])\n",
    "    my_data_x.append([1,1,1])\n",
    "    my_data_x\n",
    "    \n",
    "    my_data_y=[]\n",
    "    my_data_y.append(0)\n",
    "    my_data_y.append(0)\n",
    "    my_data_y.append(0)\n",
    "    my_data_y.append(1)\n",
    "    my_data_y\n",
    "    return my_data_x,my_data_y\n"
   ]
  },
  {
   "cell_type": "code",
   "execution_count": 20,
   "metadata": {},
   "outputs": [
    {
     "name": "stdout",
     "output_type": "stream",
     "text": [
      "[0, 0] 0\n",
      "[0, 1] 0\n",
      "[1, 0] 0\n",
      "[1, 1] 1\n"
     ]
    }
   ],
   "source": [
    "x,y=get_my_data()\n",
    "for a,b in zip(my_data_x,my_data_y):\n",
    "    print(a,b)"
   ]
  },
  {
   "cell_type": "code",
   "execution_count": 21,
   "metadata": {},
   "outputs": [
    {
     "data": {
      "text/plain": [
       "([3, 2, 1], 1, 100)"
      ]
     },
     "execution_count": 21,
     "metadata": {},
     "output_type": "execute_result"
    }
   ],
   "source": [
    "def get_parameters():\n",
    "    w=[]\n",
    "    w.append(300)\n",
    "    w.append(200)         #random y\n",
    "    w.append(100)\n",
    "    w\n",
    "    learning_rate=1     #random y\n",
    "    epoch=100\n",
    "    \n",
    "    return w,learning_rate,epoch\n",
    "get_parameters()"
   ]
  },
  {
   "cell_type": "code",
   "execution_count": 36,
   "metadata": {},
   "outputs": [
    {
     "data": {
      "text/plain": [
       "[[1, 0, 0], [1, 0, 1], [1, 1, 0], [1, 1, 1]]"
      ]
     },
     "execution_count": 36,
     "metadata": {},
     "output_type": "execute_result"
    }
   ],
   "source": [
    "w,learning_rate,epoch=get_parameters()\n",
    "samples,output=get_my_data()\n",
    "samples"
   ]
  },
  {
   "cell_type": "code",
   "execution_count": 38,
   "metadata": {},
   "outputs": [
    {
     "data": {
      "text/plain": [
       "[0, 0, 0, 1]"
      ]
     },
     "execution_count": 38,
     "metadata": {},
     "output_type": "execute_result"
    }
   ],
   "source": [
    "output"
   ]
  },
  {
   "cell_type": "code",
   "execution_count": null,
   "metadata": {
    "collapsed": true
   },
   "outputs": [],
   "source": []
  },
  {
   "cell_type": "code",
   "execution_count": 51,
   "metadata": {},
   "outputs": [
    {
     "name": "stdout",
     "output_type": "stream",
     "text": [
      "agirlik =  [-2, 2, 1]\n",
      "ornek =  [1, 0, 0]\n",
      "gercek_output 0\n",
      "tahmin cikti = 0\n",
      "\n",
      "agirlik =  [-2, 2, 1]\n",
      "ornek =  [1, 0, 1]\n",
      "gercek_output 0\n",
      "tahmin cikti = 0\n",
      "\n",
      "agirlik =  [-2, 2, 1]\n",
      "ornek =  [1, 1, 0]\n",
      "gercek_output 0\n",
      "tahmin cikti = 0\n",
      "\n",
      "agirlik =  [-2, 2, 1]\n",
      "ornek =  [1, 1, 1]\n",
      "gercek_output 1\n",
      "tahmin cikti = 1\n",
      "\n",
      "hata yok 4\n"
     ]
    }
   ],
   "source": [
    "for i in range(epoch):\n",
    "    error=\"hata_yok\"\n",
    "    s=-1\n",
    "    i=0\n",
    "    for each_sample,d in zip(samples,output):\n",
    "        s=s+1\n",
    "        i=i+1\n",
    "        print(\"agirlik = \",w)\n",
    "        print(\"ornek = \",each_sample)\n",
    "        print(\"gercek_output\",d)\n",
    "        u=my_product_two_dim_with_treshold(each_sample,w)\n",
    "        if(u>0):\n",
    "            y=1\n",
    "        else:\n",
    "            y=0\n",
    "        print(\"tahmin cikti =\",y)\n",
    "        print(\"\")\n",
    "        \n",
    "        if(y!=d):   #error var\n",
    "            for s in range(3):\n",
    "                w[s]=w[s]-learning_rate*(y-d)*each_sample[s]\n",
    "            error=\"hata_var\"\n",
    "    if(error == \"hata_yok\"):\n",
    "        print(\"hata yok\",i)\n",
    "        break\n",
    "    print(w)"
   ]
  },
  {
   "cell_type": "code",
   "execution_count": null,
   "metadata": {
    "collapsed": true
   },
   "outputs": [],
   "source": []
  }
 ],
 "metadata": {
  "anaconda-cloud": {},
  "kernelspec": {
   "display_name": "Python 3",
   "language": "python",
   "name": "python3"
  },
  "language_info": {
   "codemirror_mode": {
    "name": "ipython",
    "version": 3
   },
   "file_extension": ".py",
   "mimetype": "text/x-python",
   "name": "python",
   "nbconvert_exporter": "python",
   "pygments_lexer": "ipython3",
   "version": "3.6.5"
  }
 },
 "nbformat": 4,
 "nbformat_minor": 1
}
