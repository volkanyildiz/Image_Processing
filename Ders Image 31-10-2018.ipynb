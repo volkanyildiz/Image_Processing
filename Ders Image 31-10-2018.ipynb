{
 "cells": [
  {
   "cell_type": "code",
   "execution_count": 15,
   "metadata": {},
   "outputs": [],
   "source": [
    "import numpy as np\n",
    "import matplotlib.pyplot as plt\n",
    "import random as random"
   ]
  },
  {
   "cell_type": "code",
   "execution_count": 22,
   "metadata": {},
   "outputs": [],
   "source": [
    "#a) 28x28 boyutlarında içeriği 0 ve 1 olan bir matris üretiniz.\n",
    "#my_create_m(): return result=[]28x28  içeriği 0 1 matris\n",
    "#b) A şıkkında üretilen matrisle 1 leri içeren MBR dikdörtgeni üreten fonksiyonu yazınız\n",
    "#def my_MBR (matrix_block) 1 leri içeren en küçük dikdörtgeni değeri elde edicek\n",
    "#c) Kendisine aktarılan iki vektörün benzerliğini return eden fonksiyonu yazınız.\n",
    "#def -- (a,b)  skaler çarpımı göndercek geri\n",
    "#d) A şıkkında yazdığınız fonksiyonu kullanarak 100 farklı matris elde edip birinci \n",
    "#üretilen ile diğerlerini karşılaştırıp(distance) yakınlığını ve benzerliğini listeleyiniz\n",
    "#100 tane A daki fonk çağır ordaki 100 tanesini 1. ile karşılaştır"
   ]
  },
  {
   "cell_type": "code",
   "execution_count": 23,
   "metadata": {},
   "outputs": [],
   "source": [
    "#a\n",
    "def my_create_m():\n",
    "    return np.random.randint(0,2,(28,28))"
   ]
  },
  {
   "cell_type": "code",
   "execution_count": 24,
   "metadata": {},
   "outputs": [],
   "source": [
    "#b\n",
    "def MBR_create_28_by_28_with_0_1(matris_a):\n",
    "    m=matris_a.shape[0]\n",
    "    n=matris_a.shape[1]\n",
    "    x_min=m\n",
    "    x_max=0\n",
    "    y_min=n\n",
    "    y_max=0\n",
    "    for i in range(m):\n",
    "        for j in range(n):\n",
    "            if (matris_a[i,j]==1 and x_min>i):    # resim/matris\n",
    "                x_min=i                          \n",
    "            if (matris_a[i,j]==1 and x_max<i):\n",
    "                x_max=i\n",
    "            if (matris_a[i,j]==1 and y_min>j):\n",
    "                y_min=j\n",
    "            if (matris_a[i,j]==1 and y_max<j):\n",
    "                y_max=j\n",
    "    return (x_min,x_max,y_min,y_max)"
   ]
  },
  {
   "cell_type": "code",
   "execution_count": 25,
   "metadata": {},
   "outputs": [],
   "source": [
    "#c\n",
    "def get_similarity(character_a,character_b):\n",
    "    m=character_a.shape[0]\n",
    "    n=character_a.shape[1]\n",
    "    my_similarity=0\n",
    "    for i in range(m):\n",
    "        for j in range(n):\n",
    "            my_similarity=my_similarity+character_a[i,j]*character_b[i,j]\n",
    "    return my_similarity"
   ]
  },
  {
   "cell_type": "code",
   "execution_count": 26,
   "metadata": {},
   "outputs": [],
   "source": [
    "#d\n",
    "def get_similarity_for_100_characters(kac_karakter=100):\n",
    "    characters=[]\n",
    "    for i in range(kac_karakter):\n",
    "        new_char=my_create_m()\n",
    "        characters.append(new_char)\n",
    "    for i in range(kac_karakter):\n",
    "        benzerlik=get_similarity(characters[0],characters[i])\n",
    "        print(\"0 -- \"+str(i)+\"  \",benzerlik)"
   ]
  },
  {
   "cell_type": "code",
   "execution_count": 27,
   "metadata": {},
   "outputs": [
    {
     "name": "stdout",
     "output_type": "stream",
     "text": [
      "En Yüksek Benzerlik :  226\n"
     ]
    },
    {
     "data": {
      "image/png": "[encoded data removed]",
      "text/plain": [
       "<Figure size 432x288 with 1 Axes>"
      ]
     },
     "metadata": {},
     "output_type": "display_data"
    },
    {
     "data": {
      "image/png": "[encoded data removed]",
      "text/plain": [
       "<Figure size 432x288 with 1 Axes>"
      ]
     },
     "metadata": {},
     "output_type": "display_data"
    },
    {
     "name": "stdout",
     "output_type": "stream",
     "text": [
      "0 -- 0   387\n",
      "0 -- 1   177\n",
      "0 -- 2   192\n",
      "0 -- 3   189\n",
      "0 -- 4   200\n",
      "0 -- 5   202\n",
      "0 -- 6   179\n",
      "0 -- 7   214\n",
      "0 -- 8   198\n",
      "0 -- 9   187\n",
      "0 -- 10   219\n",
      "0 -- 11   178\n",
      "0 -- 12   175\n",
      "0 -- 13   202\n",
      "0 -- 14   201\n",
      "0 -- 15   208\n",
      "0 -- 16   186\n",
      "0 -- 17   184\n",
      "0 -- 18   223\n",
      "0 -- 19   191\n",
      "0 -- 20   170\n",
      "0 -- 21   173\n",
      "0 -- 22   178\n",
      "0 -- 23   195\n",
      "0 -- 24   207\n",
      "0 -- 25   193\n",
      "0 -- 26   195\n",
      "0 -- 27   199\n",
      "0 -- 28   187\n",
      "0 -- 29   190\n",
      "0 -- 30   183\n",
      "0 -- 31   201\n",
      "0 -- 32   201\n",
      "0 -- 33   192\n",
      "0 -- 34   193\n",
      "0 -- 35   204\n",
      "0 -- 36   194\n",
      "0 -- 37   174\n",
      "0 -- 38   191\n",
      "0 -- 39   190\n",
      "0 -- 40   203\n",
      "0 -- 41   196\n",
      "0 -- 42   196\n",
      "0 -- 43   198\n",
      "0 -- 44   167\n",
      "0 -- 45   203\n",
      "0 -- 46   208\n",
      "0 -- 47   187\n",
      "0 -- 48   206\n",
      "0 -- 49   194\n",
      "0 -- 50   206\n",
      "0 -- 51   195\n",
      "0 -- 52   211\n",
      "0 -- 53   183\n",
      "0 -- 54   187\n",
      "0 -- 55   194\n",
      "0 -- 56   200\n",
      "0 -- 57   197\n",
      "0 -- 58   177\n",
      "0 -- 59   193\n",
      "0 -- 60   192\n",
      "0 -- 61   194\n",
      "0 -- 62   174\n",
      "0 -- 63   196\n",
      "0 -- 64   202\n",
      "0 -- 65   206\n",
      "0 -- 66   205\n",
      "0 -- 67   190\n",
      "0 -- 68   208\n",
      "0 -- 69   178\n",
      "0 -- 70   206\n",
      "0 -- 71   203\n",
      "0 -- 72   191\n",
      "0 -- 73   189\n",
      "0 -- 74   193\n",
      "0 -- 75   168\n",
      "0 -- 76   187\n",
      "0 -- 77   201\n",
      "0 -- 78   208\n",
      "0 -- 79   214\n",
      "0 -- 80   195\n",
      "0 -- 81   194\n",
      "0 -- 82   177\n",
      "0 -- 83   204\n",
      "0 -- 84   203\n",
      "0 -- 85   196\n",
      "0 -- 86   181\n",
      "0 -- 87   209\n",
      "0 -- 88   199\n",
      "0 -- 89   186\n",
      "0 -- 90   191\n",
      "0 -- 91   178\n",
      "0 -- 92   191\n",
      "0 -- 93   195\n",
      "0 -- 94   214\n",
      "0 -- 95   180\n",
      "0 -- 96   187\n",
      "0 -- 97   186\n",
      "0 -- 98   191\n",
      "0 -- 99   199\n"
     ]
    }
   ],
   "source": [
    "#d-2\n",
    "a=my_create_m()\n",
    "benzerlik_max=0\n",
    "c=np.zeros((28,28))\n",
    "for i in range(100):\n",
    "    b=my_create_m()\n",
    "    if(get_similarity(a,b)>benzerlik_max):\n",
    "        benzerlik_max=get_similarity(a,b)\n",
    "        c=b\n",
    "        \n",
    "print(\"En Yüksek Benzerlik : \",benzerlik_max)\n",
    "plt.imshow(a,interpolation='nearest',cmap='gray')\n",
    "plt.show()\n",
    "plt.imshow(c,interpolation='nearest',cmap='gray')\n",
    "plt.show()\n",
    "    \n",
    "get_similarity_for_100_characters()\n"
   ]
  },
  {
   "cell_type": "code",
   "execution_count": 28,
   "metadata": {},
   "outputs": [
    {
     "name": "stdout",
     "output_type": "stream",
     "text": [
      "[[0 0 0 0 1 1 0 1 1 1 0 0 1 1 1 0 0 0 0 0 0 1 1 0 0 1 0 1]\n",
      " [0 0 0 1 0 0 1 0 1 1 1 1 0 1 0 0 1 1 0 1 1 1 0 1 1 0 0 0]\n",
      " [0 1 0 1 1 0 0 0 1 0 0 1 1 1 0 1 1 1 1 0 1 1 1 0 1 0 1 0]\n",
      " [1 0 0 1 1 0 1 0 0 1 1 0 1 0 0 1 1 1 0 1 0 1 1 1 1 0 1 1]\n",
      " [1 1 0 1 1 0 0 1 1 0 1 1 0 1 1 0 0 1 0 0 1 0 1 0 0 0 1 1]\n",
      " [1 1 0 0 1 1 1 1 1 0 1 0 1 0 1 1 1 1 1 1 1 0 0 1 1 0 1 1]\n",
      " [1 1 0 0 0 1 1 1 0 0 0 0 1 1 1 0 1 1 1 0 1 0 0 1 0 0 0 0]\n",
      " [1 0 0 1 0 1 0 1 1 0 0 0 0 0 1 1 0 0 1 1 1 1 0 1 0 1 1 0]\n",
      " [1 1 0 0 1 1 0 0 0 1 0 0 0 1 1 0 0 1 0 1 1 0 0 1 0 1 0 0]\n",
      " [0 0 0 0 1 0 0 1 1 0 1 1 0 0 0 1 1 1 0 0 1 1 0 1 1 0 1 1]\n",
      " [0 1 0 1 1 1 0 0 0 1 1 0 0 1 1 0 1 0 1 1 0 0 1 1 0 1 1 0]\n",
      " [0 1 0 0 1 0 1 0 0 1 0 1 1 0 1 0 0 0 0 0 1 0 1 0 1 1 0 1]\n",
      " [0 0 1 0 0 0 1 1 0 0 0 1 1 1 0 1 1 0 1 1 1 0 1 0 1 0 0 0]\n",
      " [1 0 0 1 1 1 0 1 1 1 1 1 0 0 0 0 0 0 1 0 0 0 1 1 1 1 0 1]\n",
      " [1 0 1 1 1 1 0 0 1 1 0 0 0 0 0 1 0 0 0 0 0 0 0 0 0 0 0 0]\n",
      " [1 1 0 1 0 0 0 1 0 1 1 0 0 0 1 1 1 0 0 1 0 1 0 1 0 0 0 0]\n",
      " [1 0 1 1 1 1 0 0 0 1 0 0 1 1 1 1 1 1 0 0 1 0 0 1 1 0 1 1]\n",
      " [1 1 0 0 1 0 1 0 1 1 1 1 0 0 0 1 1 0 1 0 1 1 1 1 0 1 1 1]\n",
      " [0 1 1 0 1 0 1 0 1 1 0 0 1 1 1 1 0 1 0 0 0 0 0 0 0 0 1 1]\n",
      " [1 0 0 1 1 0 0 1 1 1 1 1 0 1 0 1 1 0 1 1 0 0 0 0 1 1 1 1]\n",
      " [0 0 1 1 1 0 1 1 1 1 1 1 0 0 0 1 1 0 0 0 1 0 0 0 1 1 1 0]\n",
      " [1 1 0 1 1 0 0 1 0 0 1 1 1 0 1 0 1 0 0 0 0 1 1 1 1 1 0 0]\n",
      " [0 1 1 1 1 0 0 0 1 1 0 0 1 0 1 1 1 1 1 1 0 1 1 1 1 0 0 1]\n",
      " [1 1 0 0 1 0 0 0 0 1 1 1 0 0 0 0 0 1 0 0 1 1 0 0 1 1 1 0]\n",
      " [0 1 0 0 1 0 1 0 1 1 0 1 0 0 0 0 0 0 1 1 0 0 1 1 1 0 0 0]\n",
      " [1 1 1 0 0 1 1 1 1 0 1 1 1 1 0 1 0 0 0 1 1 0 0 1 1 0 1 1]\n",
      " [0 0 0 0 1 0 1 1 0 0 0 1 1 1 1 1 1 0 1 1 0 0 0 0 1 0 1 0]\n",
      " [1 1 1 0 0 1 0 0 1 1 1 1 1 0 0 1 0 1 0 0 0 1 1 0 0 1 1 0]]\n",
      "(0, 27, 0, 27)\n",
      "173\n"
     ]
    }
   ],
   "source": [
    "print(my_create_m())\n",
    "print(MBR_create_28_by_28_with_0_1(my_create_m()))\n",
    "c_1=my_create_m()\n",
    "c_2=my_create_m()\n",
    "print(get_similarity(c_1,c_2))"
   ]
  },
  {
   "cell_type": "code",
   "execution_count": null,
   "metadata": {},
   "outputs": [],
   "source": []
  },
  {
   "cell_type": "code",
   "execution_count": null,
   "metadata": {},
   "outputs": [],
   "source": []
  }
 ],
 "metadata": {
  "kernelspec": {
   "display_name": "Python 3",
   "language": "python",
   "name": "python3"
  },
  "language_info": {
   "codemirror_mode": {
    "name": "ipython",
    "version": 3
   },
   "file_extension": ".py",
   "mimetype": "text/x-python",
   "name": "python",
   "nbconvert_exporter": "python",
   "pygments_lexer": "ipython3",
   "version": "3.6.5"
  }
 },
 "nbformat": 4,
 "nbformat_minor": 2
}
