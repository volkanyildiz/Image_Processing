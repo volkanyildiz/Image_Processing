{
 "cells": [
  {
   "cell_type": "code",
   "execution_count": 1,
   "metadata": {},
   "outputs": [],
   "source": [
    "import numpy as np\n",
    "from IPython.display import Image,display\n",
    "import matplotlib.pyplot as plt"
   ]
  },
  {
   "cell_type": "code",
   "execution_count": 2,
   "metadata": {},
   "outputs": [],
   "source": [
    "#xor\n",
    "XORdata=np.array([[0,0,0],[0,1,1],[1,0,1],[1,1,0]])\n",
    "X=XORdata[:,0:2]\n",
    "y=XORdata[:,-1]"
   ]
  },
  {
   "cell_type": "code",
   "execution_count": 3,
   "metadata": {},
   "outputs": [],
   "source": [
    "def print_network(net):\n",
    "    for i,layer in enumerate(net,1):\n",
    "        print(\"Layer {} \".format(i))\n",
    "        for j,neuron in enumerate(layer,1):\n",
    "            print(\"neuron {} :\".format(j),neuron)"
   ]
  },
  {
   "cell_type": "code",
   "execution_count": 4,
   "metadata": {},
   "outputs": [],
   "source": [
    "def initialize_network():\n",
    "    \n",
    "    input_neurons=len(X[0])\n",
    "    hidden_neurons=input_neurons+1\n",
    "    output_neurons=2\n",
    "    \n",
    "    n_hidden_layers=1\n",
    "    \n",
    "    net=list()\n",
    "    \n",
    "    for h in range(n_hidden_layers):\n",
    "        if h!=0:\n",
    "            input_neurons=len(net[-1])\n",
    "            \n",
    "        hidden_layer = [ { 'weights': np.random.uniform(size=input_neurons)} for i in range(hidden_neurons) ]\n",
    "        net.append(hidden_layer)\n",
    "    \n",
    "    output_layer = [ { 'weights': np.random.uniform(size=hidden_neurons)} for i in range(output_neurons)]\n",
    "    net.append(output_layer)\n",
    "    \n",
    "    return net"
   ]
  },
  {
   "cell_type": "code",
   "execution_count": 5,
   "metadata": {},
   "outputs": [
    {
     "name": "stdout",
     "output_type": "stream",
     "text": [
      "Layer 1 \n",
      "neuron 1 : {'weights': array([0.20732973, 0.50369252])}\n",
      "neuron 2 : {'weights': array([0.46134158, 0.80329516])}\n",
      "neuron 3 : {'weights': array([0.15399436, 0.27333138])}\n",
      "Layer 2 \n",
      "neuron 1 : {'weights': array([0.89383481, 0.33070493, 0.87773685])}\n",
      "neuron 2 : {'weights': array([0.615957  , 0.15870113, 0.49116353])}\n"
     ]
    }
   ],
   "source": [
    "net=initialize_network()\n",
    "print_network(net)"
   ]
  },
  {
   "cell_type": "code",
   "execution_count": 6,
   "metadata": {},
   "outputs": [],
   "source": [
    "def activate_sigmoid(sum):\n",
    "    return (1/(1+np.exp(-sum)))"
   ]
  },
  {
   "cell_type": "code",
   "execution_count": 7,
   "metadata": {},
   "outputs": [],
   "source": [
    "def forward_propagation(net,input):\n",
    "    row=input\n",
    "    for layer in net:\n",
    "        prev_input=np.array([])\n",
    "        for neuron in layer:\n",
    "            sum=neuron['weights'].T.dot(row)\n",
    "            \n",
    "            result=activate_sigmoid(sum)\n",
    "            neuron['result']=result\n",
    "            \n",
    "            prev_input=np.append(prev_input,[result])\n",
    "        row =prev_input\n",
    "    \n",
    "    return row"
   ]
  },
  {
   "cell_type": "code",
   "execution_count": 8,
   "metadata": {},
   "outputs": [],
   "source": [
    "def sigmoidDerivative(output):\n",
    "    return output*(1.0-output)\n"
   ]
  },
  {
   "cell_type": "code",
   "execution_count": 9,
   "metadata": {},
   "outputs": [],
   "source": [
    "def back_propagation(net,row,expected):\n",
    "     for i in reversed(range(len(net))):\n",
    "            layer=net[i]\n",
    "            errors=np.array([])\n",
    "            if i==len(net)-1:\n",
    "                results=[neuron['result'] for neuron in layer]\n",
    "                errors = expected-np.array(results) \n",
    "            else:\n",
    "                for j in range(len(layer)):\n",
    "                    herror=0\n",
    "                    nextlayer=net[i+1]\n",
    "                    for neuron in nextlayer:\n",
    "                        herror+=(neuron['weights'][j]*neuron['delta'])\n",
    "                    errors=np.append(errors,[herror])\n",
    "            \n",
    "            for j in range(len(layer)):\n",
    "                neuron=layer[j]\n",
    "                neuron['delta']=errors[j]*sigmoidDerivative(neuron['result'])"
   ]
  },
  {
   "cell_type": "code",
   "execution_count": 10,
   "metadata": {},
   "outputs": [],
   "source": [
    "def updateWeights(net,input,lrate):\n",
    "    \n",
    "    for i in range(len(net)):\n",
    "        inputs = input\n",
    "        if i!=0:\n",
    "            inputs=[neuron['result'] for neuron in net[i-1]]\n",
    "\n",
    "        for neuron in net[i]:\n",
    "            for j in range(len(inputs)):\n",
    "                neuron['weights'][j]+=lrate*neuron['delta']*inputs[j]"
   ]
  },
  {
   "cell_type": "code",
   "execution_count": 11,
   "metadata": {},
   "outputs": [],
   "source": [
    "def training(net, epochs,lrate,n_outputs):\n",
    "    errors=[]\n",
    "    for epoch in range(epochs):\n",
    "        sum_error=0\n",
    "        for i,row in enumerate(X):\n",
    "            outputs=forward_propagation(net,row)\n",
    "            \n",
    "            expected=[0.0 for i in range(n_outputs)]\n",
    "            expected[y[i]]=1\n",
    "    \n",
    "            sum_error+=sum([(expected[j]-outputs[j])**2 for j in range(len(expected))])\n",
    "            back_propagation(net,row,expected)\n",
    "            updateWeights(net,row,0.05)\n",
    "        if epoch%10000 ==0:\n",
    "            print('>epoch=%d,error=%.3f'%(epoch,sum_error))\n",
    "            errors.append(sum_error)\n",
    "    return errors"
   ]
  },
  {
   "cell_type": "code",
   "execution_count": 12,
   "metadata": {},
   "outputs": [
    {
     "name": "stdout",
     "output_type": "stream",
     "text": [
      ">epoch=0,error=2.426\n",
      ">epoch=10000,error=0.223\n",
      ">epoch=20000,error=0.057\n",
      ">epoch=30000,error=0.032\n",
      ">epoch=40000,error=0.023\n",
      ">epoch=50000,error=0.017\n",
      ">epoch=60000,error=0.014\n",
      ">epoch=70000,error=0.012\n",
      ">epoch=80000,error=0.010\n",
      ">epoch=90000,error=0.009\n"
     ]
    },
    {
     "data": {
      "image/png": "[encoded data removed]",
      "text/plain": [
       "<Figure size 432x288 with 1 Axes>"
      ]
     },
     "metadata": {},
     "output_type": "display_data"
    }
   ],
   "source": [
    "errors=training(net,100000, 0.05,2)\n",
    "\n",
    "\n",
    "epochs=[0,1,2,3,4,5,6,7,8,9]\n",
    "plt.plot(epochs,errors)\n",
    "plt.xlabel(\"epochs in 10000's\")\n",
    "plt.ylabel('error')\n",
    "plt.show()"
   ]
  },
  {
   "cell_type": "code",
   "execution_count": 13,
   "metadata": {},
   "outputs": [
    {
     "name": "stdout",
     "output_type": "stream",
     "text": [
      "1\n",
      "Layer 1 \n",
      "neuron 1 : {'weights': array([-4.49338294,  7.18028118]), 'result': 0.011059078264658361, 'delta': 8.075354657194575e-05}\n",
      "neuron 2 : {'weights': array([5.94492369, 5.95001454]), 'result': 0.9973877395770063, 'delta': -1.273169271073337e-08}\n",
      "neuron 3 : {'weights': array([ 7.179004  , -4.49291211]), 'result': 0.9992381540069369, 'delta': 8.080969633366046e-05}\n",
      "Layer 2 \n",
      "neuron 1 : {'weights': array([  9.66936466, -13.33248001,   9.669283  ]), 'result': 0.02850376128527808, 'delta': 6.971491455942968e-05}\n",
      "neuron 2 : {'weights': array([-9.66186706, 13.32238953, -9.66178576]), 'result': 0.9714272154237346, 'delta': -7.026059991613774e-05}\n"
     ]
    }
   ],
   "source": [
    "def predict(network, row):\n",
    "    outputs = forward_propagation(net, row)\n",
    "    return outputs\n",
    "\n",
    "pred=predict(net,np.array([1,0]))\n",
    "output=np.argmax(pred)\n",
    "print(output)\n",
    "print_network(net)"
   ]
  },
  {
   "cell_type": "code",
   "execution_count": 14,
   "metadata": {},
   "outputs": [
    {
     "name": "stdout",
     "output_type": "stream",
     "text": [
      ">epoch=0,error=0.008\n",
      ">epoch=10000,error=0.007\n",
      ">epoch=20000,error=0.006\n",
      ">epoch=30000,error=0.006\n",
      ">epoch=40000,error=0.005\n",
      ">epoch=50000,error=0.005\n",
      ">epoch=60000,error=0.005\n",
      ">epoch=70000,error=0.004\n",
      ">epoch=80000,error=0.004\n",
      ">epoch=90000,error=0.004\n"
     ]
    },
    {
     "data": {
      "image/png": "[encoded data removed]",
      "text/plain": [
       "<Figure size 432x288 with 1 Axes>"
      ]
     },
     "metadata": {},
     "output_type": "display_data"
    }
   ],
   "source": [
    "def training(net, epochs,lrate,n_outputs):\n",
    "    errors=[]\n",
    "    for epoch in range(epochs):\n",
    "        sum_error=0\n",
    "        for i,row in enumerate(X):\n",
    "            outputs=forward_propagation(net,row)\n",
    "            \n",
    "            expected=[0.0 for i in range(n_outputs)]\n",
    "            expected[y[i]]=1\n",
    "    \n",
    "            sum_error+=sum([(expected[j]-outputs[j])**2 for j in range(len(expected))])\n",
    "            back_propagation(net,row,expected)\n",
    "            updateWeights(net,row,0.05)\n",
    "        if epoch%10000 ==0:\n",
    "            print('>epoch=%d,error=%.3f'%(epoch,sum_error))\n",
    "            errors.append(sum_error)\n",
    "    return errors\n",
    "\n",
    "\n",
    "errors=training(net,100000, 0.05,2)\n",
    "\n",
    "\n",
    "epochs=[0,1,2,3,4,5,6,7,8,9]\n",
    "plt.plot(epochs,errors)\n",
    "plt.xlabel(\"epochs in 10000's\")\n",
    "plt.ylabel('error')\n",
    "plt.show()"
   ]
  },
  {
   "cell_type": "code",
   "execution_count": 15,
   "metadata": {},
   "outputs": [],
   "source": [
    "def predict(network, row):\n",
    "    outputs = forward_propagation(net, row)\n",
    "    return outputs"
   ]
  },
  {
   "cell_type": "code",
   "execution_count": null,
   "metadata": {},
   "outputs": [],
   "source": [
    "pred=predict(net,np.array([1,0]))\n",
    "output=np.argmax(pred)\n",
    "print(output)\n",
    "print_network(net)"
   ]
  }
 ],
 "metadata": {
  "kernelspec": {
   "display_name": "Python 3",
   "language": "python",
   "name": "python3"
  },
  "language_info": {
   "codemirror_mode": {
    "name": "ipython",
    "version": 3
   },
   "file_extension": ".py",
   "mimetype": "text/x-python",
   "name": "python",
   "nbconvert_exporter": "python",
   "pygments_lexer": "ipython3",
   "version": "3.6.5"
  }
 },
 "nbformat": 4,
 "nbformat_minor": 2
}
