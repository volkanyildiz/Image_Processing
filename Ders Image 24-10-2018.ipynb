{
 "cells": [
  {
   "cell_type": "code",
   "execution_count": 12,
   "metadata": {},
   "outputs": [],
   "source": [
    "import matplotlib.pyplot as plt\n",
    "import matplotlib.image as mpimg\n",
    "import numpy as np\n",
    "import math"
   ]
  },
  {
   "cell_type": "code",
   "execution_count": 13,
   "metadata": {},
   "outputs": [],
   "source": [
    "img_1=plt.imread(\"TC.jpg\")"
   ]
  },
  {
   "cell_type": "code",
   "execution_count": 14,
   "metadata": {},
   "outputs": [
    {
     "data": {
      "image/png": "[encoded data removed]",
      "text/plain": [
       "<Figure size 432x288 with 1 Axes>"
      ]
     },
     "metadata": {},
     "output_type": "display_data"
    }
   ],
   "source": [
    "plt.imshow(img_1)\n",
    "plt.show()"
   ]
  },
  {
   "cell_type": "code",
   "execution_count": 15,
   "metadata": {},
   "outputs": [],
   "source": [
    "def get_distance(v,w=[1/3,1/3,1/3]):\n",
    "    a,b,c=v[0],v[1],v[2]\n",
    "    w1,w2,w3 = w[0],w[1],w[2]\n",
    "    return math.sqrt((a**2)*w1 + (b**2)*w2 + (c**2)*w3)"
   ]
  },
  {
   "cell_type": "code",
   "execution_count": 16,
   "metadata": {},
   "outputs": [],
   "source": [
    "def convert_rgb_to_gray_level(im_1):\n",
    "    m=im_1.shape[0]\n",
    "    n=im_1.shape[1]\n",
    "    im_2=np.zeros((m,n))  #aşlangıçta im_2 nin oyutları verilmediğinden hata vermemesi için yazıldı\n",
    "    for i in range(m):\n",
    "        for j in range(n):\n",
    "            im_2[i,j]=get_distance(im_1[i,j,:])\n",
    "    return im_2"
   ]
  },
  {
   "cell_type": "code",
   "execution_count": 17,
   "metadata": {},
   "outputs": [],
   "source": [
    "def convert_gray_level_to_BW(image_gray_level):\n",
    "    m=image_gray_level.shape[0]\n",
    "    n=image_gray_level.shape[1]\n",
    "    im_bw=np.zeros((m,n))  #aşlangıçta im_2 nin oyutları verilmediğinden hata vermemesi için yazıldı\n",
    "    for i in range(m):\n",
    "        for j in range(n):\n",
    "            if image_gray_level[i,j] > 120:\n",
    "                im_bw[i,j]=1\n",
    "            else:\n",
    "                im_bw[i,j]=0\n",
    "            #im_bw[i,j]=get_distance(image_gray_level[i,j])\n",
    "    return im_bw"
   ]
  },
  {
   "cell_type": "code",
   "execution_count": 18,
   "metadata": {},
   "outputs": [],
   "source": [
    "\n",
    "            "
   ]
  },
  {
   "cell_type": "code",
   "execution_count": 27,
   "metadata": {},
   "outputs": [],
   "source": [
    "def piksel_compare_1(piksel):\n",
    "    if(img_1[i-1:i+1,j-1:j+1]):\n",
    "        return True\n",
    "    else:\n",
    "        return False"
   ]
  },
  {
   "cell_type": "code",
   "execution_count": 28,
   "metadata": {},
   "outputs": [],
   "source": [
    "def piksel_compare_2(piksel):\n",
    "    if(img_1[i-1:i+1,j-1:j+1]):\n",
    "        return False\n",
    "    else:\n",
    "        return True"
   ]
  },
  {
   "cell_type": "code",
   "execution_count": 29,
   "metadata": {},
   "outputs": [],
   "source": [
    "def fonksiyon(img_1):\n",
    "    m,n=img_1.shape[0],img_1.shape[1]\n",
    "    e,internal=0,0\n",
    "    for i in range(1,m-1):\n",
    "        for j in range(1,n-1):\n",
    "            if(piksel_compare_1(img_1[i,j])):\n",
    "                e=e+1\n",
    "            if(piksel_compare_2(img_1[i,j])):\n",
    "                internal+=1\n",
    "    return (e-internal)/4"
   ]
  },
  {
   "cell_type": "code",
   "execution_count": 35,
   "metadata": {},
   "outputs": [
    {
     "data": {
      "image/png": "[encoded data removed]",
      "text/plain": [
       "<Figure size 432x288 with 1 Axes>"
      ]
     },
     "metadata": {},
     "output_type": "display_data"
    }
   ],
   "source": [
    "img_1=plt.imread(\"TC.jpg\")\n",
    "%matplotlib inline\n",
    "img_2=convert_rgb_to_gray_level(img_1)\n",
    "img_3=convert_gray_level_to_BW(img_2)\n",
    "\n",
    "\n",
    "plt.imshow(img_3,cmap='gray')\n",
    "plt.show()"
   ]
  },
  {
   "cell_type": "code",
   "execution_count": 43,
   "metadata": {},
   "outputs": [
    {
     "data": {
      "text/plain": [
       "(1, 4)"
      ]
     },
     "execution_count": 43,
     "metadata": {},
     "output_type": "execute_result"
    }
   ],
   "source": [
    "my_block=img_3[10:12,50:52]\n",
    "my_block= my_block.reshape(1,4)\n",
    "my_block.shape"
   ]
  },
  {
   "cell_type": "code",
   "execution_count": 51,
   "metadata": {},
   "outputs": [],
   "source": [
    "def fonksiyon(img_1):\n",
    "    m,n=img_1.shape[0],img_1.shape[1]\n",
    "    e,internal=0,0\n",
    "    for i in range(1,m-1):\n",
    "        for j in range(1,n-1):\n",
    "            p=img_1[i:i+2,j:j+2]\n",
    "            siyah=0\n",
    "            beyaz=0\n",
    "            for a in range(2):\n",
    "                for b in range(2):\n",
    "                    if p[a][b]==1:\n",
    "                        beyaz=beyaz+1\n",
    "                    else:\n",
    "                        siyah=siyah+1\n",
    "            if(siyah>beyaz and beyaz>0):\n",
    "                internal=internal+1\n",
    "            elif(beyaz>siyah and siyah>0):\n",
    "                e=e+1\n",
    "                \n",
    "    print(\"external \",e)\n",
    "    print(\"internal\",internal)\n",
    "    print(\"object\",(e-internal)/4)"
   ]
  },
  {
   "cell_type": "code",
   "execution_count": 52,
   "metadata": {},
   "outputs": [
    {
     "name": "stdout",
     "output_type": "stream",
     "text": [
      "external  20\n",
      "internal 4\n",
      "object 4.0\n"
     ]
    }
   ],
   "source": [
    "fonksiyon(img_3)"
   ]
  },
  {
   "cell_type": "code",
   "execution_count": null,
   "metadata": {},
   "outputs": [],
   "source": []
  }
 ],
 "metadata": {
  "anaconda-cloud": {},
  "kernelspec": {
   "display_name": "Python 3",
   "language": "python",
   "name": "python3"
  },
  "language_info": {
   "codemirror_mode": {
    "name": "ipython",
    "version": 3
   },
   "file_extension": ".py",
   "mimetype": "text/x-python",
   "name": "python",
   "nbconvert_exporter": "python",
   "pygments_lexer": "ipython3",
   "version": "3.6.5"
  }
 },
 "nbformat": 4,
 "nbformat_minor": 1
}
